{
 "cells": [
  {
   "cell_type": "code",
   "execution_count": 36,
   "metadata": {},
   "outputs": [],
   "source": [
    "import geopandas as gpd\n",
    "import pandas as pd\n",
    "from pyproj import CRS"
   ]
  },
  {
   "cell_type": "code",
   "execution_count": 48,
   "metadata": {},
   "outputs": [],
   "source": [
    "#Palvelun nimi listana\n",
    "palvelu = [\"yleiset kirjastot\"]\n",
    "outputname = \"Testi\""
   ]
  },
  {
   "cell_type": "code",
   "execution_count": 38,
   "metadata": {},
   "outputs": [],
   "source": [
    "tpr = gpd.read_file(\"C:/LIUTAP/Helsinki/Toimipisterekisteri/Toimipisterekisteri_HEL.shp\")"
   ]
  },
  {
   "cell_type": "code",
   "execution_count": 39,
   "metadata": {},
   "outputs": [
    {
     "data": {
      "text/html": [
       "<div>\n",
       "<style scoped>\n",
       "    .dataframe tbody tr th:only-of-type {\n",
       "        vertical-align: middle;\n",
       "    }\n",
       "\n",
       "    .dataframe tbody tr th {\n",
       "        vertical-align: top;\n",
       "    }\n",
       "\n",
       "    .dataframe thead th {\n",
       "        text-align: right;\n",
       "    }\n",
       "</style>\n",
       "<table border=\"1\" class=\"dataframe\">\n",
       "  <thead>\n",
       "    <tr style=\"text-align: right;\">\n",
       "      <th></th>\n",
       "      <th>id</th>\n",
       "      <th>org_id</th>\n",
       "      <th>dept_id</th>\n",
       "      <th>provider_t</th>\n",
       "      <th>data_sourc</th>\n",
       "      <th>name_fi</th>\n",
       "      <th>name_sv</th>\n",
       "      <th>name_en</th>\n",
       "      <th>manual_coo</th>\n",
       "      <th>street_add</th>\n",
       "      <th>...</th>\n",
       "      <th>accessib_2</th>\n",
       "      <th>created_ti</th>\n",
       "      <th>modified_t</th>\n",
       "      <th>service_id</th>\n",
       "      <th>service_fi</th>\n",
       "      <th>service_sv</th>\n",
       "      <th>service_en</th>\n",
       "      <th>datanomist</th>\n",
       "      <th>paivitetty</th>\n",
       "      <th>geometry</th>\n",
       "    </tr>\n",
       "  </thead>\n",
       "  <tbody>\n",
       "    <tr>\n",
       "      <th>0</th>\n",
       "      <td>1</td>\n",
       "      <td>83e74666-0836-4c1d-948a-4b34a8b90301</td>\n",
       "      <td>860a9509-0c3c-4a31-b116-cd8bbff0afce</td>\n",
       "      <td>SELF_PRODUCED</td>\n",
       "      <td>www.hel.fi</td>\n",
       "      <td>Päiväkoti Apila</td>\n",
       "      <td>Päiväkoti Apila</td>\n",
       "      <td>Day care Apila</td>\n",
       "      <td>No</td>\n",
       "      <td>Arentikuja 3</td>\n",
       "      <td>...</td>\n",
       "      <td>00:unknown,11:red,12:red,13:red,21:red,22:red,...</td>\n",
       "      <td>2007-11-15</td>\n",
       "      <td>2019-12-03</td>\n",
       "      <td>160,288,663,861</td>\n",
       "      <td>esiopetus (päivähoidon järjestämä),kerhotoimin...</td>\n",
       "      <td>förskoleundervisning (som dagvården ordnar),kl...</td>\n",
       "      <td>pre-primary education (organised by day care),...</td>\n",
       "      <td>Palvelukartta</td>\n",
       "      <td>2020-06-01</td>\n",
       "      <td>POINT (25492013.302 6681310.669)</td>\n",
       "    </tr>\n",
       "    <tr>\n",
       "      <th>1</th>\n",
       "      <td>2</td>\n",
       "      <td>83e74666-0836-4c1d-948a-4b34a8b90301</td>\n",
       "      <td>860a9509-0c3c-4a31-b116-cd8bbff0afce</td>\n",
       "      <td>SELF_PRODUCED</td>\n",
       "      <td>www.hel.fi</td>\n",
       "      <td>Päiväkoti Kannelmäki</td>\n",
       "      <td>Päiväkoti Kannelmäki</td>\n",
       "      <td>Day care Kannelmäki</td>\n",
       "      <td>No</td>\n",
       "      <td>Kanneltie 1</td>\n",
       "      <td>...</td>\n",
       "      <td>00:unknown,11:red,12:red,13:red,21:green,22:re...</td>\n",
       "      <td>2007-11-15</td>\n",
       "      <td>2019-12-03</td>\n",
       "      <td>160,663,861</td>\n",
       "      <td>esiopetus (päivähoidon järjestämä),suomenkieli...</td>\n",
       "      <td>förskoleundervisning (som dagvården ordnar),da...</td>\n",
       "      <td>pre-primary education (organised by day care),...</td>\n",
       "      <td>Palvelukartta</td>\n",
       "      <td>2020-06-01</td>\n",
       "      <td>POINT (25493467.913 6680993.519)</td>\n",
       "    </tr>\n",
       "    <tr>\n",
       "      <th>2</th>\n",
       "      <td>3</td>\n",
       "      <td>83e74666-0836-4c1d-948a-4b34a8b90301</td>\n",
       "      <td>860a9509-0c3c-4a31-b116-cd8bbff0afce</td>\n",
       "      <td>SELF_PRODUCED</td>\n",
       "      <td>www.hel.fi</td>\n",
       "      <td>Päiväkoti Kannel</td>\n",
       "      <td>Päiväkoti Kannel</td>\n",
       "      <td>Day care Kannel</td>\n",
       "      <td>No</td>\n",
       "      <td>Kannelpolku 5</td>\n",
       "      <td>...</td>\n",
       "      <td>00:unknown,11:red,12:red,13:red,21:green,22:re...</td>\n",
       "      <td>2007-11-15</td>\n",
       "      <td>2020-01-14</td>\n",
       "      <td>160,663,861</td>\n",
       "      <td>esiopetus (päivähoidon järjestämä),suomenkieli...</td>\n",
       "      <td>förskoleundervisning (som dagvården ordnar),da...</td>\n",
       "      <td>pre-primary education (organised by day care),...</td>\n",
       "      <td>Palvelukartta</td>\n",
       "      <td>2020-06-01</td>\n",
       "      <td>POINT (25493356.880 6680794.018)</td>\n",
       "    </tr>\n",
       "    <tr>\n",
       "      <th>3</th>\n",
       "      <td>4</td>\n",
       "      <td>83e74666-0836-4c1d-948a-4b34a8b90301</td>\n",
       "      <td>860a9509-0c3c-4a31-b116-cd8bbff0afce</td>\n",
       "      <td>SELF_PRODUCED</td>\n",
       "      <td>www.hel.fi</td>\n",
       "      <td>Päiväkoti Vanhainen</td>\n",
       "      <td>Päiväkoti Vanhainen</td>\n",
       "      <td>Day care Vanhainen</td>\n",
       "      <td>No</td>\n",
       "      <td>Soittajantie 10</td>\n",
       "      <td>...</td>\n",
       "      <td>00:unknown,11:green,12:red,13:green,21:green,2...</td>\n",
       "      <td>2007-11-15</td>\n",
       "      <td>2019-08-21</td>\n",
       "      <td>156,663</td>\n",
       "      <td>erityisryhmä (lasten päivähoito),suomenkieline...</td>\n",
       "      <td>specialgrupp (barndagvård),dagvård på finska</td>\n",
       "      <td>special group (child day care),day care in Fin...</td>\n",
       "      <td>Palvelukartta</td>\n",
       "      <td>2020-06-01</td>\n",
       "      <td>POINT (25493220.089 6681147.117)</td>\n",
       "    </tr>\n",
       "    <tr>\n",
       "      <th>4</th>\n",
       "      <td>5</td>\n",
       "      <td>83e74666-0836-4c1d-948a-4b34a8b90301</td>\n",
       "      <td>860a9509-0c3c-4a31-b116-cd8bbff0afce</td>\n",
       "      <td>SELF_PRODUCED</td>\n",
       "      <td>www.hel.fi</td>\n",
       "      <td>Päiväkoti Kaunokki</td>\n",
       "      <td>Päiväkoti Kaunokki</td>\n",
       "      <td>Day care Kaunokki</td>\n",
       "      <td>No</td>\n",
       "      <td>Tuohipolku 10</td>\n",
       "      <td>...</td>\n",
       "      <td>00:unknown,11:red,12:red,13:red,21:red,22:red,...</td>\n",
       "      <td>2007-11-15</td>\n",
       "      <td>2019-12-03</td>\n",
       "      <td>160,663,861</td>\n",
       "      <td>esiopetus (päivähoidon järjestämä),suomenkieli...</td>\n",
       "      <td>förskoleundervisning (som dagvården ordnar),da...</td>\n",
       "      <td>pre-primary education (organised by day care),...</td>\n",
       "      <td>Palvelukartta</td>\n",
       "      <td>2020-06-01</td>\n",
       "      <td>POINT (25491893.166 6682137.598)</td>\n",
       "    </tr>\n",
       "  </tbody>\n",
       "</table>\n",
       "<p>5 rows × 41 columns</p>\n",
       "</div>"
      ],
      "text/plain": [
       "   id                                org_id  \\\n",
       "0   1  83e74666-0836-4c1d-948a-4b34a8b90301   \n",
       "1   2  83e74666-0836-4c1d-948a-4b34a8b90301   \n",
       "2   3  83e74666-0836-4c1d-948a-4b34a8b90301   \n",
       "3   4  83e74666-0836-4c1d-948a-4b34a8b90301   \n",
       "4   5  83e74666-0836-4c1d-948a-4b34a8b90301   \n",
       "\n",
       "                                dept_id     provider_t  data_sourc  \\\n",
       "0  860a9509-0c3c-4a31-b116-cd8bbff0afce  SELF_PRODUCED  www.hel.fi   \n",
       "1  860a9509-0c3c-4a31-b116-cd8bbff0afce  SELF_PRODUCED  www.hel.fi   \n",
       "2  860a9509-0c3c-4a31-b116-cd8bbff0afce  SELF_PRODUCED  www.hel.fi   \n",
       "3  860a9509-0c3c-4a31-b116-cd8bbff0afce  SELF_PRODUCED  www.hel.fi   \n",
       "4  860a9509-0c3c-4a31-b116-cd8bbff0afce  SELF_PRODUCED  www.hel.fi   \n",
       "\n",
       "                name_fi               name_sv              name_en manual_coo  \\\n",
       "0       Päiväkoti Apila       Päiväkoti Apila       Day care Apila         No   \n",
       "1  Päiväkoti Kannelmäki  Päiväkoti Kannelmäki  Day care Kannelmäki         No   \n",
       "2      Päiväkoti Kannel      Päiväkoti Kannel      Day care Kannel         No   \n",
       "3   Päiväkoti Vanhainen   Päiväkoti Vanhainen   Day care Vanhainen         No   \n",
       "4    Päiväkoti Kaunokki    Päiväkoti Kaunokki    Day care Kaunokki         No   \n",
       "\n",
       "        street_add  ...                                         accessib_2  \\\n",
       "0     Arentikuja 3  ...  00:unknown,11:red,12:red,13:red,21:red,22:red,...   \n",
       "1      Kanneltie 1  ...  00:unknown,11:red,12:red,13:red,21:green,22:re...   \n",
       "2    Kannelpolku 5  ...  00:unknown,11:red,12:red,13:red,21:green,22:re...   \n",
       "3  Soittajantie 10  ...  00:unknown,11:green,12:red,13:green,21:green,2...   \n",
       "4    Tuohipolku 10  ...  00:unknown,11:red,12:red,13:red,21:red,22:red,...   \n",
       "\n",
       "   created_ti  modified_t       service_id  \\\n",
       "0  2007-11-15  2019-12-03  160,288,663,861   \n",
       "1  2007-11-15  2019-12-03      160,663,861   \n",
       "2  2007-11-15  2020-01-14      160,663,861   \n",
       "3  2007-11-15  2019-08-21          156,663   \n",
       "4  2007-11-15  2019-12-03      160,663,861   \n",
       "\n",
       "                                          service_fi  \\\n",
       "0  esiopetus (päivähoidon järjestämä),kerhotoimin...   \n",
       "1  esiopetus (päivähoidon järjestämä),suomenkieli...   \n",
       "2  esiopetus (päivähoidon järjestämä),suomenkieli...   \n",
       "3  erityisryhmä (lasten päivähoito),suomenkieline...   \n",
       "4  esiopetus (päivähoidon järjestämä),suomenkieli...   \n",
       "\n",
       "                                          service_sv  \\\n",
       "0  förskoleundervisning (som dagvården ordnar),kl...   \n",
       "1  förskoleundervisning (som dagvården ordnar),da...   \n",
       "2  förskoleundervisning (som dagvården ordnar),da...   \n",
       "3       specialgrupp (barndagvård),dagvård på finska   \n",
       "4  förskoleundervisning (som dagvården ordnar),da...   \n",
       "\n",
       "                                          service_en     datanomist  \\\n",
       "0  pre-primary education (organised by day care),...  Palvelukartta   \n",
       "1  pre-primary education (organised by day care),...  Palvelukartta   \n",
       "2  pre-primary education (organised by day care),...  Palvelukartta   \n",
       "3  special group (child day care),day care in Fin...  Palvelukartta   \n",
       "4  pre-primary education (organised by day care),...  Palvelukartta   \n",
       "\n",
       "   paivitetty                          geometry  \n",
       "0  2020-06-01  POINT (25492013.302 6681310.669)  \n",
       "1  2020-06-01  POINT (25493467.913 6680993.519)  \n",
       "2  2020-06-01  POINT (25493356.880 6680794.018)  \n",
       "3  2020-06-01  POINT (25493220.089 6681147.117)  \n",
       "4  2020-06-01  POINT (25491893.166 6682137.598)  \n",
       "\n",
       "[5 rows x 41 columns]"
      ]
     },
     "execution_count": 39,
     "metadata": {},
     "output_type": "execute_result"
    }
   ],
   "source": [
    "tpr.head()"
   ]
  },
  {
   "cell_type": "code",
   "execution_count": 40,
   "metadata": {},
   "outputs": [
    {
     "name": "stdout",
     "output_type": "stream",
     "text": [
      "perhepäivähoidon ohjausalueet\n"
     ]
    }
   ],
   "source": [
    "#print(str(tpr[\"service_fi\"].loc[500]))"
   ]
  },
  {
   "cell_type": "code",
   "execution_count": 41,
   "metadata": {},
   "outputs": [],
   "source": [
    "collist = []\n",
    "for x in tpr.columns:\n",
    "    collist.append(x)\n",
    "    \n",
    "#print(collist)"
   ]
  },
  {
   "cell_type": "code",
   "execution_count": 42,
   "metadata": {},
   "outputs": [],
   "source": [
    "pal = gpd.GeoDataFrame(columns=collist)\n",
    "#pal"
   ]
  },
  {
   "cell_type": "code",
   "execution_count": 43,
   "metadata": {},
   "outputs": [],
   "source": [
    "for x in range(0, len(tpr)):\n",
    "    for i in range(0, len(palvelu)):\n",
    "        if palvelu[i] in str(tpr[\"service_fi\"].loc[x]):\n",
    "            pal = pal.append(tpr.loc[x])\n",
    "        \n",
    "pal = pal.reset_index()"
   ]
  },
  {
   "cell_type": "code",
   "execution_count": 44,
   "metadata": {},
   "outputs": [
    {
     "data": {
      "text/plain": [
       "70"
      ]
     },
     "execution_count": 44,
     "metadata": {},
     "output_type": "execute_result"
    }
   ],
   "source": [
    "len(pal)"
   ]
  },
  {
   "cell_type": "code",
   "execution_count": 45,
   "metadata": {},
   "outputs": [],
   "source": [
    "pal.crs = CRS.from_epsg(3879)"
   ]
  },
  {
   "cell_type": "code",
   "execution_count": 46,
   "metadata": {},
   "outputs": [
    {
     "data": {
      "text/plain": [
       "<Projected CRS: EPSG:3879>\n",
       "Name: ETRS89 / GK25FIN\n",
       "Axis Info [cartesian]:\n",
       "- N[north]: Northing (metre)\n",
       "- E[east]: Easting (metre)\n",
       "Area of Use:\n",
       "- name: Finland - 24.5°E to 25.5°E onshore nominal\n",
       "- bounds: (24.5, 59.94, 25.5, 68.9)\n",
       "Coordinate Operation:\n",
       "- name: Finland Gauss-Kruger zone 25\n",
       "- method: Transverse Mercator\n",
       "Datum: European Terrestrial Reference System 1989\n",
       "- Ellipsoid: GRS 1980\n",
       "- Prime Meridian: Greenwich"
      ]
     },
     "execution_count": 46,
     "metadata": {},
     "output_type": "execute_result"
    }
   ],
   "source": [
    "pal.crs"
   ]
  },
  {
   "cell_type": "code",
   "execution_count": 49,
   "metadata": {},
   "outputs": [],
   "source": [
    "pal.to_file(\"C:/LIUTAP/Helsinki/Toimipisterekisteri/\" + outputname + \".shp\")"
   ]
  }
 ],
 "metadata": {
  "kernelspec": {
   "display_name": "Python 3",
   "language": "python",
   "name": "python3"
  },
  "language_info": {
   "codemirror_mode": {
    "name": "ipython",
    "version": 3
   },
   "file_extension": ".py",
   "mimetype": "text/x-python",
   "name": "python",
   "nbconvert_exporter": "python",
   "pygments_lexer": "ipython3",
   "version": "3.7.7"
  }
 },
 "nbformat": 4,
 "nbformat_minor": 4
}
